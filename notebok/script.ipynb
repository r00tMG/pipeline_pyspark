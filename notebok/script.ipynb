{
 "cells": [
  {
   "cell_type": "markdown",
   "id": "670dde64-38b7-4618-af1f-a93d330b5e34",
   "metadata": {},
   "source": [
    "## Analyse des performances footballistiques saison par saison"
   ]
  },
  {
   "cell_type": "markdown",
   "id": "e0c7f73d-170a-4b3f-8a04-8d85cfd39983",
   "metadata": {},
   "source": [
    "### 1. Chargement et préparation des données"
   ]
  },
  {
   "cell_type": "code",
   "execution_count": 1,
   "id": "b2807b66-1933-4b66-b13b-349c8bf1fc4e",
   "metadata": {},
   "outputs": [
    {
     "name": "stderr",
     "output_type": "stream",
     "text": [
      "WARNING: Using incubator modules: jdk.incubator.vector\n",
      "Using Spark's default log4j profile: org/apache/spark/log4j2-defaults.properties\n",
      "Setting default log level to \"WARN\".\n",
      "To adjust logging level use sc.setLogLevel(newLevel). For SparkR, use setLogLevel(newLevel).\n",
      "25/10/17 08:07:57 WARN NativeCodeLoader: Unable to load native-hadoop library for your platform... using builtin-java classes where applicable\n",
      "                                                                                "
     ]
    },
    {
     "name": "stdout",
     "output_type": "stream",
     "text": [
      "+--------+---+------+----------+------------------+--------------+----+----+---+\n",
      "|Match_ID|Div|Season|      Date|          HomeTeam|      AwayTeam|FTHG|FTAG|FTR|\n",
      "+--------+---+------+----------+------------------+--------------+----+----+---+\n",
      "|       1| D2|  2009|2010-04-04|        Oberhausen|Kaiserslautern|   2|   1|  H|\n",
      "|       2| D2|  2009|2009-11-01|       Munich 1860|Kaiserslautern|   0|   1|  A|\n",
      "|       3| D2|  2009|2009-10-04|     Frankfurt FSV|Kaiserslautern|   1|   1|  D|\n",
      "|       4| D2|  2009|2010-02-21|     Frankfurt FSV|     Karlsruhe|   2|   1|  H|\n",
      "|       5| D2|  2009|2009-12-06|             Ahlen|     Karlsruhe|   1|   3|  A|\n",
      "|       6| D2|  2009|2010-04-03|      Union Berlin|     Karlsruhe|   1|   1|  D|\n",
      "|       7| D2|  2009|2009-08-14|         Paderborn|     Karlsruhe|   2|   0|  H|\n",
      "|       8| D2|  2009|2010-03-08|         Bielefeld|     Karlsruhe|   0|   1|  A|\n",
      "|       9| D2|  2009|2009-09-26|    Kaiserslautern|     Karlsruhe|   2|   0|  H|\n",
      "|      10| D2|  2009|2009-11-21|     Hansa Rostock|     Karlsruhe|   2|   1|  H|\n",
      "|      11| D2|  2009|2009-12-19|    Greuther Furth|     Karlsruhe|   1|   4|  A|\n",
      "|      12| D2|  2009|2010-04-16|           Koblenz|     Karlsruhe|   2|   2|  D|\n",
      "|      13| D2|  2009|2010-03-21|        Oberhausen|     Karlsruhe|   1|   0|  H|\n",
      "|      14| D2|  2009|2009-09-14|           Cottbus|     Karlsruhe|   2|   4|  A|\n",
      "|      15| D2|  2009|2010-05-02|          Duisburg|     Karlsruhe|   0|   1|  A|\n",
      "|      16| D2|  2009|2009-10-30|Fortuna Dusseldorf|     Karlsruhe|   1|   0|  H|\n",
      "|      17| D2|  2009|2010-01-15|            Aachen|     Karlsruhe|   3|   1|  H|\n",
      "|      18| D2|  2009|2009-10-18|          Augsburg|     Karlsruhe|   1|   1|  D|\n",
      "|      19| D2|  2009|2010-02-05|          St Pauli|     Karlsruhe|   2|   1|  H|\n",
      "|      20| D2|  2009|2009-08-24|       Munich 1860|     Karlsruhe|   1|   3|  A|\n",
      "+--------+---+------+----------+------------------+--------------+----+----+---+\n",
      "only showing top 20 rows\n"
     ]
    }
   ],
   "source": [
    "from pyspark.sql import SparkSession\n",
    "spark = SparkSession.builder.appName('Pipeline Pyspark').getOrCreate()\n",
    "\n",
    "df = spark.read.csv('../datas/football-matches-68e30d7701b83243515688 - football-matches-68e30d7701b83243515688.csv', \n",
    "                   header=True)\n",
    "df.show()"
   ]
  },
  {
   "cell_type": "code",
   "execution_count": 2,
   "id": "14fc3ca4-503a-441c-952f-b58b9e268912",
   "metadata": {},
   "outputs": [
    {
     "name": "stdout",
     "output_type": "stream",
     "text": [
      "root\n",
      " |-- Match_ID: string (nullable = true)\n",
      " |-- Div: string (nullable = true)\n",
      " |-- Season: string (nullable = true)\n",
      " |-- Date: string (nullable = true)\n",
      " |-- HomeTeam: string (nullable = true)\n",
      " |-- AwayTeam: string (nullable = true)\n",
      " |-- FTHG: string (nullable = true)\n",
      " |-- FTAG: string (nullable = true)\n",
      " |-- FTR: string (nullable = true)\n",
      "\n"
     ]
    }
   ],
   "source": [
    "df.printSchema()"
   ]
  },
  {
   "cell_type": "code",
   "execution_count": 3,
   "id": "a92ff92d-6aab-40d2-b3f6-2d967e8e1047",
   "metadata": {},
   "outputs": [
    {
     "name": "stdout",
     "output_type": "stream",
     "text": [
      "+--------+---+------+-------------------+-------------+--------------+----+----+---+\n",
      "|Match_ID|Div|Season|               Date|     HomeTeam|      AwayTeam|FTHG|FTAG|FTR|\n",
      "+--------+---+------+-------------------+-------------+--------------+----+----+---+\n",
      "|       1| D2|  2009|2010-04-04 00:00:00|   Oberhausen|Kaiserslautern|   2|   1|  H|\n",
      "|       2| D2|  2009|2009-11-01 00:00:00|  Munich 1860|Kaiserslautern|   0|   1|  A|\n",
      "|       3| D2|  2009|2009-10-04 00:00:00|Frankfurt FSV|Kaiserslautern|   1|   1|  D|\n",
      "|       4| D2|  2009|2010-02-21 00:00:00|Frankfurt FSV|     Karlsruhe|   2|   1|  H|\n",
      "|       5| D2|  2009|2009-12-06 00:00:00|        Ahlen|     Karlsruhe|   1|   3|  A|\n",
      "+--------+---+------+-------------------+-------------+--------------+----+----+---+\n",
      "only showing top 5 rows\n"
     ]
    }
   ],
   "source": [
    "# Conversion du type de la colonne Date\n",
    "from pyspark.sql.functions import to_timestamp, col, cast, when, round\n",
    "df = df.withColumn('Date', to_timestamp(col('Date'), 'yyyy-MM-dd'))\n",
    "df=df.withColumn('FTHG', col(\"FTHG\").cast('int'))\n",
    "df=df.withColumn('FTAG', col(\"FTAG\").cast('int'))\n",
    "df=df.withColumn(\n",
    "    \"Season\", col(\"Season\").cast('int')\n",
    ")\n",
    "\n",
    "\n",
    "df.show(5)"
   ]
  },
  {
   "cell_type": "code",
   "execution_count": 4,
   "id": "c446e2d6-86c8-44b7-bef3-e944ad65e2a4",
   "metadata": {},
   "outputs": [
    {
     "name": "stdout",
     "output_type": "stream",
     "text": [
      "root\n",
      " |-- Match_ID: string (nullable = true)\n",
      " |-- Div: string (nullable = true)\n",
      " |-- Season: integer (nullable = true)\n",
      " |-- Date: timestamp (nullable = true)\n",
      " |-- HomeTeam: string (nullable = true)\n",
      " |-- AwayTeam: string (nullable = true)\n",
      " |-- FTHG: integer (nullable = true)\n",
      " |-- FTAG: integer (nullable = true)\n",
      " |-- FTR: string (nullable = true)\n",
      "\n"
     ]
    },
    {
     "data": {
      "text/plain": [
       "24625"
      ]
     },
     "execution_count": 4,
     "metadata": {},
     "output_type": "execute_result"
    }
   ],
   "source": [
    "df.printSchema()\n",
    "df.count()"
   ]
  },
  {
   "cell_type": "markdown",
   "id": "f21084cf-310a-4eb1-9a54-aee19c173833",
   "metadata": {},
   "source": [
    "### 2. Création de colonnes supplémentaires"
   ]
  },
  {
   "cell_type": "code",
   "execution_count": 5,
   "id": "b271c455-aa9a-469b-9131-97e1fdd88feb",
   "metadata": {},
   "outputs": [
    {
     "name": "stdout",
     "output_type": "stream",
     "text": [
      "+--------+---+------+-------------------+-------------+--------------+----+----+---+-----------+-----------+-------+\n",
      "|Match_ID|Div|Season|               Date|     HomeTeam|      AwayTeam|FTHG|FTAG|FTR|HomeTeamWin|AwayTeamWin|GameTie|\n",
      "+--------+---+------+-------------------+-------------+--------------+----+----+---+-----------+-----------+-------+\n",
      "|       1| D2|  2009|2010-04-04 00:00:00|   Oberhausen|Kaiserslautern|   2|   1|  H|          1|          0|      0|\n",
      "|       2| D2|  2009|2009-11-01 00:00:00|  Munich 1860|Kaiserslautern|   0|   1|  A|          0|          1|      0|\n",
      "|       3| D2|  2009|2009-10-04 00:00:00|Frankfurt FSV|Kaiserslautern|   1|   1|  D|          0|          0|      1|\n",
      "|       4| D2|  2009|2010-02-21 00:00:00|Frankfurt FSV|     Karlsruhe|   2|   1|  H|          1|          0|      0|\n",
      "|       5| D2|  2009|2009-12-06 00:00:00|        Ahlen|     Karlsruhe|   1|   3|  A|          0|          1|      0|\n",
      "+--------+---+------+-------------------+-------------+--------------+----+----+---+-----------+-----------+-------+\n",
      "only showing top 5 rows\n"
     ]
    }
   ],
   "source": [
    "# Colonnes indicatrices : HomeTeamWin, AwayTeamWin, GameTie.\n",
    "df = df.withColumn(\n",
    "    'HomeTeamWin', when(col(\"FTR\") == \"H\", 1).otherwise(0)\n",
    "                  ).withColumn(\n",
    "    \"AwayTeamWin\", when(col(\"FTR\") == \"A\", 1).otherwise(0)\n",
    "                  ).withColumn(\n",
    "    \"GameTie\", when(col(\"FTR\") == \"D\", 1).otherwise(0)\n",
    "                  )\n",
    "df.show(5)"
   ]
  },
  {
   "cell_type": "markdown",
   "id": "791c36f8-b281-4dbc-b280-8b3da4bfa6db",
   "metadata": {},
   "source": [
    "### 3. Filtrage des données"
   ]
  },
  {
   "cell_type": "code",
   "execution_count": 6,
   "id": "e0d6a935-e686-45fa-9123-0d9b26a4a61e",
   "metadata": {},
   "outputs": [
    {
     "name": "stdout",
     "output_type": "stream",
     "text": [
      "+--------+---+------+-------------------+-------------+----------+----+----+---+-----------+-----------+-------+\n",
      "|Match_ID|Div|Season|               Date|     HomeTeam|  AwayTeam|FTHG|FTAG|FTR|HomeTeamWin|AwayTeamWin|GameTie|\n",
      "+--------+---+------+-------------------+-------------+----------+----+----+---+-----------+-----------+-------+\n",
      "|      21| D1|  2009|2010-02-06 00:00:00|       Bochum|Leverkusen|   1|   1|  D|          0|          0|      1|\n",
      "|      22| D1|  2009|2009-11-22 00:00:00|Bayern Munich|Leverkusen|   1|   1|  D|          0|          0|      1|\n",
      "|      23| D1|  2009|2010-05-08 00:00:00|   M'gladbach|Leverkusen|   1|   1|  D|          0|          0|      1|\n",
      "|      24| D1|  2009|2009-08-08 00:00:00|        Mainz|Leverkusen|   2|   2|  D|          0|          0|      1|\n",
      "|      25| D1|  2009|2009-10-17 00:00:00|      Hamburg|Leverkusen|   0|   0|  D|          0|          0|      1|\n",
      "|      26| D1|  2009|2010-04-17 00:00:00|    Stuttgart|Leverkusen|   2|   1|  H|          1|          0|      0|\n",
      "|      27| D1|  2009|2010-03-20 00:00:00|     Dortmund|Leverkusen|   3|   0|  H|          1|          0|      0|\n",
      "|      28| D1|  2009|2009-10-31 00:00:00|   Schalke 04|Leverkusen|   2|   2|  D|          0|          0|      1|\n",
      "|      29| D1|  2009|2009-08-22 00:00:00|     Freiburg|Leverkusen|   0|   5|  A|          0|          1|      0|\n",
      "|      30| D1|  2009|2010-02-21 00:00:00|Werder Bremen|Leverkusen|   2|   2|  D|          0|          0|      1|\n",
      "+--------+---+------+-------------------+-------------+----------+----+----+---+-----------+-----------+-------+\n",
      "only showing top 10 rows\n"
     ]
    }
   ],
   "source": [
    "# Garder uniquement la Bundesliga (Div = D1).\n",
    "\n",
    "df = df.filter(col(\"DIV\") == \"D1\")\n",
    "df.show(10)"
   ]
  },
  {
   "cell_type": "code",
   "execution_count": 7,
   "id": "320442d2-dbf1-40df-b9e6-d2f40365569e",
   "metadata": {},
   "outputs": [
    {
     "data": {
      "text/plain": [
       "4896"
      ]
     },
     "execution_count": 7,
     "metadata": {},
     "output_type": "execute_result"
    }
   ],
   "source": [
    "# Restreindre aux saisons 2000–2015.\n",
    "df = df.filter((col(\"Season\") >= 2000) & (col(\"Season\") <= 2015))\n",
    "df.count()"
   ]
  },
  {
   "cell_type": "code",
   "execution_count": 8,
   "id": "ac913193-96cd-4eb6-8744-7d4f6bedec5c",
   "metadata": {
    "scrolled": true
   },
   "outputs": [
    {
     "name": "stdout",
     "output_type": "stream",
     "text": [
      "+--------+---+------+-------------------+-------------+----------+----+----+---+-----------+-----------+-------+\n",
      "|Match_ID|Div|Season|               Date|     HomeTeam|  AwayTeam|FTHG|FTAG|FTR|HomeTeamWin|AwayTeamWin|GameTie|\n",
      "+--------+---+------+-------------------+-------------+----------+----+----+---+-----------+-----------+-------+\n",
      "|      21| D1|  2009|2010-02-06 00:00:00|       Bochum|Leverkusen|   1|   1|  D|          0|          0|      1|\n",
      "|      22| D1|  2009|2009-11-22 00:00:00|Bayern Munich|Leverkusen|   1|   1|  D|          0|          0|      1|\n",
      "|      23| D1|  2009|2010-05-08 00:00:00|   M'gladbach|Leverkusen|   1|   1|  D|          0|          0|      1|\n",
      "|      24| D1|  2009|2009-08-08 00:00:00|        Mainz|Leverkusen|   2|   2|  D|          0|          0|      1|\n",
      "|      25| D1|  2009|2009-10-17 00:00:00|      Hamburg|Leverkusen|   0|   0|  D|          0|          0|      1|\n",
      "|      26| D1|  2009|2010-04-17 00:00:00|    Stuttgart|Leverkusen|   2|   1|  H|          1|          0|      0|\n",
      "|      27| D1|  2009|2010-03-20 00:00:00|     Dortmund|Leverkusen|   3|   0|  H|          1|          0|      0|\n",
      "|      28| D1|  2009|2009-10-31 00:00:00|   Schalke 04|Leverkusen|   2|   2|  D|          0|          0|      1|\n",
      "|      29| D1|  2009|2009-08-22 00:00:00|     Freiburg|Leverkusen|   0|   5|  A|          0|          1|      0|\n",
      "|      30| D1|  2009|2010-02-21 00:00:00|Werder Bremen|Leverkusen|   2|   2|  D|          0|          0|      1|\n",
      "|      31| D1|  2009|2009-12-11 00:00:00|       Hertha|Leverkusen|   2|   2|  D|          0|          0|      1|\n",
      "|      32| D1|  2009|2009-12-05 00:00:00|     Hannover|Leverkusen|   0|   0|  D|          0|          0|      1|\n",
      "|      33| D1|  2009|2010-04-03 00:00:00|Ein Frankfurt|Leverkusen|   3|   2|  H|          1|          0|      0|\n",
      "|      34| D1|  2009|2009-09-12 00:00:00|    Wolfsburg|Leverkusen|   2|   3|  A|          0|          1|      0|\n",
      "|      35| D1|  2009|2010-01-24 00:00:00|   Hoffenheim|Leverkusen|   0|   3|  A|          0|          1|      0|\n",
      "|      36| D1|  2009|2009-09-26 00:00:00|      FC Koln|Leverkusen|   0|   1|  A|          0|          1|      0|\n",
      "|      37| D1|  2009|2010-03-07 00:00:00|     Nurnberg|Leverkusen|   3|   2|  H|          1|          0|      0|\n",
      "|      38| D1|  2009|2009-11-21 00:00:00|    Wolfsburg|  Nurnberg|   2|   3|  A|          0|          1|      0|\n",
      "|      39| D1|  2009|2009-12-05 00:00:00|     Dortmund|  Nurnberg|   4|   0|  H|          1|          0|      0|\n",
      "|      40| D1|  2009|2010-04-17 00:00:00|     Freiburg|  Nurnberg|   2|   1|  H|          1|          0|      0|\n",
      "+--------+---+------+-------------------+-------------+----------+----+----+---+-----------+-----------+-------+\n",
      "only showing top 20 rows\n"
     ]
    }
   ],
   "source": [
    "df.show()"
   ]
  },
  {
   "cell_type": "markdown",
   "id": "d2b6ee7f-5d31-4407-8375-5c69332fbc5a",
   "metadata": {},
   "source": [
    "### 4. Agrégations avec Group By"
   ]
  },
  {
   "cell_type": "code",
   "execution_count": 9,
   "id": "d0a7601b-492b-4f1d-972e-7579f84f6602",
   "metadata": {},
   "outputs": [],
   "source": [
    "# Renommer les colonnes pour plus de clarté\n",
    "df = (df\n",
    "    .withColumnRenamed(\"FTHG\", \"HomeTeamGoals\")\n",
    "        .withColumnRenamed(\"FTAG\", \"AwayTeamGoals\")\n",
    "            .withColumnRenamed(\"FTR\", \"FinalResult\")\n",
    "     )"
   ]
  },
  {
   "cell_type": "code",
   "execution_count": 10,
   "id": "b3cf3cdb-ceed-4547-896d-da56de361ae0",
   "metadata": {
    "scrolled": true
   },
   "outputs": [
    {
     "name": "stdout",
     "output_type": "stream",
     "text": [
      "+--------+---+------+-------------------+-------------+----------+-------------+-------------+-----------+-----------+-----------+-------+\n",
      "|Match_ID|Div|Season|               Date|     HomeTeam|  AwayTeam|HomeTeamGoals|AwayTeamGoals|FinalResult|HomeTeamWin|AwayTeamWin|GameTie|\n",
      "+--------+---+------+-------------------+-------------+----------+-------------+-------------+-----------+-----------+-----------+-------+\n",
      "|      21| D1|  2009|2010-02-06 00:00:00|       Bochum|Leverkusen|            1|            1|          D|          0|          0|      1|\n",
      "|      22| D1|  2009|2009-11-22 00:00:00|Bayern Munich|Leverkusen|            1|            1|          D|          0|          0|      1|\n",
      "|      23| D1|  2009|2010-05-08 00:00:00|   M'gladbach|Leverkusen|            1|            1|          D|          0|          0|      1|\n",
      "|      24| D1|  2009|2009-08-08 00:00:00|        Mainz|Leverkusen|            2|            2|          D|          0|          0|      1|\n",
      "|      25| D1|  2009|2009-10-17 00:00:00|      Hamburg|Leverkusen|            0|            0|          D|          0|          0|      1|\n",
      "+--------+---+------+-------------------+-------------+----------+-------------+-------------+-----------+-----------+-----------+-------+\n",
      "only showing top 5 rows\n"
     ]
    }
   ],
   "source": [
    "df.show(5)"
   ]
  },
  {
   "cell_type": "code",
   "execution_count": 11,
   "id": "06e2e544-cc0f-4114-9d51-a97190aa0681",
   "metadata": {
    "scrolled": true
   },
   "outputs": [
    {
     "name": "stderr",
     "output_type": "stream",
     "text": [
      "[Stage 13:>                                                         (0 + 1) / 1]"
     ]
    },
    {
     "name": "stdout",
     "output_type": "stream",
     "text": [
      "+--------------+------+------------+------------+----------------+---------------+-------------+\n",
      "|      HomeTeam|Season|TotalHomeWin|TotalHomeTie|HomeAgainstGoals|HomeScoredGoals|TotalHomeLoss|\n",
      "+--------------+------+------------+------------+----------------+---------------+-------------+\n",
      "|      Dortmund|  2013|          11|           2|              19|             41|            4|\n",
      "| Werder Bremen|  2010|           6|           6|              23|             26|            5|\n",
      "|       Hamburg|  2014|           6|           5|              18|             16|            6|\n",
      "|      Duisburg|  2007|           3|           3|              29|             19|           11|\n",
      "|     Stuttgart|  2004|          12|           2|              15|             34|            3|\n",
      "|      Dortmund|  2000|           9|           4|              20|             34|            4|\n",
      "|      Nurnberg|  2004|           4|           6|              25|             25|            7|\n",
      "|Kaiserslautern|  2011|           2|           5|              28|             12|           10|\n",
      "|    Schalke 04|  2006|          13|           2|              11|             30|            2|\n",
      "| Werder Bremen|  2002|          10|           2|              23|             34|            5|\n",
      "|    Leverkusen|  2015|          10|           3|              17|             31|            4|\n",
      "| Hansa Rostock|  2007|           5|           4|              21|             17|            8|\n",
      "|     Wolfsburg|  2008|          16|           1|              13|             51|            0|\n",
      "|      Freiburg|  2000|           9|           5|              15|             36|            3|\n",
      "|    M'gladbach|  2004|           8|           5|              21|             26|            4|\n",
      "|    Hoffenheim|  2014|           9|           3|              26|             31|            5|\n",
      "|      Freiburg|  2003|          10|           3|              25|             32|            4|\n",
      "|      Hannover|  2004|           8|           2|              19|             21|            7|\n",
      "| Werder Bremen|  2014|           8|           4|              24|             25|            5|\n",
      "|        Hertha|  2007|           9|           3|              18|             21|            5|\n",
      "+--------------+------+------------+------------+----------------+---------------+-------------+\n",
      "only showing top 20 rows\n"
     ]
    },
    {
     "name": "stderr",
     "output_type": "stream",
     "text": [
      "                                                                                "
     ]
    }
   ],
   "source": [
    "df_home_matches = df.groupBy(\"HomeTeam\", \"Season\").agg(\n",
    "    {\"HomeTeamWin\": \"sum\",\n",
    "     \"AwayTeamWin\": \"sum\",\n",
    "     \"GameTie\": \"sum\",\n",
    "     \"HomeTeamGoals\": \"sum\",\n",
    "     \"AwayTeamGoals\": \"sum\"}\n",
    ")\n",
    "\n",
    "# Renommer les colonnes pour plus de clarté\n",
    "df_home_matches = df_home_matches.withColumnRenamed(\"sum(HomeTeamWin)\", \"TotalHomeWin\") \\\n",
    "                                 .withColumnRenamed(\"sum(AwayTeamWin)\", \"TotalHomeLoss\") \\\n",
    "                                 .withColumnRenamed(\"sum(GameTie)\", \"TotalHomeTie\") \\\n",
    "                                 .withColumnRenamed(\"sum(HomeTeamGoals)\", \"HomeScoredGoals\") \\\n",
    "                                 .withColumnRenamed(\"sum(AwayTeamGoals)\", \"HomeAgainstGoals\")\n",
    "df_home_matches.show()"
   ]
  },
  {
   "cell_type": "code",
   "execution_count": 12,
   "id": "5727c129-1b61-4d9f-929e-32398be155b3",
   "metadata": {
    "scrolled": true
   },
   "outputs": [
    {
     "name": "stdout",
     "output_type": "stream",
     "text": [
      "+--------------+------+-------------+------------+---------------+----------------+------------+\n",
      "|          Team|Season|TotalAwayLoss|TotalAwayTie|AwayScoredGoals|AwayAgainstGoals|TotalAwayWin|\n",
      "+--------------+------+-------------+------------+---------------+----------------+------------+\n",
      "|      Dortmund|  2013|            3|           3|             39|              19|          11|\n",
      "| Werder Bremen|  2010|            8|           5|             21|              38|           4|\n",
      "|       Hamburg|  2014|           11|           3|              9|              32|           3|\n",
      "|      Duisburg|  2007|           10|           2|             17|              26|           5|\n",
      "|     Stuttgart|  2004|            7|           5|             20|              25|           5|\n",
      "|      Dortmund|  2000|            4|           6|             28|              22|           7|\n",
      "|      Nurnberg|  2004|            9|           2|             30|              38|           6|\n",
      "|Kaiserslautern|  2011|            9|           6|             12|              26|           2|\n",
      "|    Schalke 04|  2006|            6|           3|             23|              21|           8|\n",
      "| Werder Bremen|  2002|            9|           2|             17|              27|           6|\n",
      "|    Leverkusen|  2015|            6|           3|             25|              23|           8|\n",
      "| Hansa Rostock|  2007|           12|           2|             13|              31|           3|\n",
      "|     Wolfsburg|  2008|            7|           5|             29|              28|           5|\n",
      "|      Freiburg|  2000|            6|           5|             18|              22|           6|\n",
      "|    M'gladbach|  2004|           10|           7|              9|              30|           0|\n",
      "|    Hoffenheim|  2014|            9|           5|             18|              29|           3|\n",
      "|      Freiburg|  2003|           12|           5|             10|              42|           0|\n",
      "|      Hannover|  2004|            8|           4|             13|              17|           5|\n",
      "| Werder Bremen|  2014|            8|           6|             25|              41|           3|\n",
      "|        Hertha|  2007|            9|           5|             18|              26|           3|\n",
      "+--------------+------+-------------+------------+---------------+----------------+------------+\n",
      "only showing top 20 rows\n"
     ]
    }
   ],
   "source": [
    "df_away_matches = df.groupBy(\"AwayTeam\", \"Season\").agg(\n",
    "    {\"AwayTeamWin\": \"sum\",\n",
    "     \"HomeTeamWin\": \"sum\",\n",
    "     \"GameTie\": \"sum\",\n",
    "     \"AwayTeamGoals\": \"sum\",\n",
    "     \"HomeTeamGoals\": \"sum\"}\n",
    ")\n",
    "\n",
    "df_away_matches = df_away_matches.withColumnRenamed(\"AwayTeam\", \"Team\") \\\n",
    "                                 .withColumnRenamed(\"sum(AwayTeamWin)\", \"TotalAwayWin\") \\\n",
    "                                 .withColumnRenamed(\"sum(HomeTeamWin)\", \"TotalAwayLoss\") \\\n",
    "                                 .withColumnRenamed(\"sum(GameTie)\", \"TotalAwayTie\") \\\n",
    "                                 .withColumnRenamed(\"sum(AwayTeamGoals)\", \"AwayScoredGoals\") \\\n",
    "                                 .withColumnRenamed(\"sum(HomeTeamGoals)\", \"AwayAgainstGoals\")\n",
    "df_away_matches.show()"
   ]
  },
  {
   "cell_type": "markdown",
   "id": "d7b0c4a7-eb3e-473d-b6da-7b926e32f443",
   "metadata": {},
   "source": [
    "### 5. Jointure de DataFrames"
   ]
  },
  {
   "cell_type": "code",
   "execution_count": 13,
   "id": "629c07a2-5bcf-4f36-9e5a-5a946340c605",
   "metadata": {
    "scrolled": true
   },
   "outputs": [
    {
     "name": "stderr",
     "output_type": "stream",
     "text": [
      "25/10/17 08:08:19 WARN Column: Constructing trivially true equals predicate, 'Season == Season'. Perhaps you need to use aliases.\n"
     ]
    },
    {
     "name": "stdout",
     "output_type": "stream",
     "text": [
      "+------------+------------+----------------+---------------+-------------+-------------+------+-------------+------------+---------------+----------------+------------+\n",
      "|TotalHomeWin|TotalHomeTie|HomeAgainstGoals|HomeScoredGoals|TotalHomeLoss|         Team|Season|TotalAwayLoss|TotalAwayTie|AwayScoredGoals|AwayAgainstGoals|TotalAwayWin|\n",
      "+------------+------------+----------------+---------------+-------------+-------------+------+-------------+------------+---------------+----------------+------------+\n",
      "|          11|           2|              19|             41|            4|     Dortmund|  2013|            3|           3|             39|              19|          11|\n",
      "|           6|           6|              23|             26|            5|Werder Bremen|  2010|            8|           5|             21|              38|           4|\n",
      "|           6|           5|              18|             16|            6|      Hamburg|  2014|           11|           3|              9|              32|           3|\n",
      "|           3|           3|              29|             19|           11|     Duisburg|  2007|           10|           2|             17|              26|           5|\n",
      "|          12|           2|              15|             34|            3|    Stuttgart|  2004|            7|           5|             20|              25|           5|\n",
      "+------------+------------+----------------+---------------+-------------+-------------+------+-------------+------------+---------------+----------------+------------+\n",
      "only showing top 5 rows\n"
     ]
    }
   ],
   "source": [
    "# Fusionner df_home_matches et df_away_matches ----> df_merged\n",
    "df_merged = df_home_matches.join(\n",
    "    df_away_matches,\n",
    "    (df_home_matches.HomeTeam == df_away_matches.Team) & \n",
    "    (df_home_matches.Season == df_away_matches.Season),\n",
    "    \"inner\"\n",
    ").drop(\"HomeTeam\").drop(df_away_matches.Season)\n",
    "\n",
    "df_merged.show(5)\n"
   ]
  },
  {
   "cell_type": "markdown",
   "id": "c5d614e4-e410-40bb-bc1b-f202911c7d9e",
   "metadata": {},
   "source": [
    "### 6. Création de nouvelles colonnes synthétiques"
   ]
  },
  {
   "cell_type": "code",
   "execution_count": 14,
   "id": "d5ac2065-8a20-44d7-ac9d-8151a20ede59",
   "metadata": {
    "scrolled": true
   },
   "outputs": [
    {
     "name": "stdout",
     "output_type": "stream",
     "text": [
      "+------------+------------+----------------+---------------+-------------+--------------+------+-------------+------------+---------------+----------------+------------+-----------+------------+---+----+---+\n",
      "|TotalHomeWin|TotalHomeTie|HomeAgainstGoals|HomeScoredGoals|TotalHomeLoss|          Team|Season|TotalAwayLoss|TotalAwayTie|AwayScoredGoals|AwayAgainstGoals|TotalAwayWin|GoalsScored|GoalsAgainst|Win|Loss|Tie|\n",
      "+------------+------------+----------------+---------------+-------------+--------------+------+-------------+------------+---------------+----------------+------------+-----------+------------+---+----+---+\n",
      "|          11|           2|              19|             41|            4|      Dortmund|  2013|            3|           3|             39|              19|          11|         80|          38| 22|   7|  5|\n",
      "|           6|           6|              23|             26|            5| Werder Bremen|  2010|            8|           5|             21|              38|           4|         47|          61| 10|  13| 11|\n",
      "|           6|           5|              18|             16|            6|       Hamburg|  2014|           11|           3|              9|              32|           3|         25|          50|  9|  17|  8|\n",
      "|           3|           3|              29|             19|           11|      Duisburg|  2007|           10|           2|             17|              26|           5|         36|          55|  8|  21|  5|\n",
      "|          12|           2|              15|             34|            3|     Stuttgart|  2004|            7|           5|             20|              25|           5|         54|          40| 17|  10|  7|\n",
      "|           9|           4|              20|             34|            4|      Dortmund|  2000|            4|           6|             28|              22|           7|         62|          42| 16|   8| 10|\n",
      "|           4|           6|              25|             25|            7|      Nurnberg|  2004|            9|           2|             30|              38|           6|         55|          63| 10|  16|  8|\n",
      "|           2|           5|              28|             12|           10|Kaiserslautern|  2011|            9|           6|             12|              26|           2|         24|          54|  4|  19| 11|\n",
      "|          13|           2|              11|             30|            2|    Schalke 04|  2006|            6|           3|             23|              21|           8|         53|          32| 21|   8|  5|\n",
      "|          10|           2|              23|             34|            5| Werder Bremen|  2002|            9|           2|             17|              27|           6|         51|          50| 16|  14|  4|\n",
      "+------------+------------+----------------+---------------+-------------+--------------+------+-------------+------------+---------------+----------------+------------+-----------+------------+---+----+---+\n",
      "only showing top 10 rows\n"
     ]
    }
   ],
   "source": [
    "# Colonnes totales : GoalsScored, GoalsAgainst, Win, Loss, Tie.\n",
    "df_merged = df_merged.withColumn(\n",
    "    \"GoalsScored\", col(\"HomeScoredGoals\") + col(\"AwayScoredGoals\")\n",
    ").withColumn(\n",
    "    \"GoalsAgainst\", col(\"HomeAgainstGoals\") + col(\"AwayAgainstGoals\")\n",
    ").withColumn(\n",
    "    \"Win\", col(\"TotalHomeWin\") + col(\"TotalAwayWin\")\n",
    ").withColumn(\n",
    "    \"Loss\", col(\"TotalHomeLoss\") + col(\"TotalAwayLoss\")\n",
    ").withColumn(\n",
    "    \"Tie\", col(\"TotalHomeTie\") + col(\"TotalAwayTie\")\n",
    ")\n",
    "df_merged.show(10)"
   ]
  },
  {
   "cell_type": "code",
   "execution_count": 15,
   "id": "42b9b181-27b1-4b34-a401-66ac0474834e",
   "metadata": {
    "scrolled": true
   },
   "outputs": [
    {
     "name": "stdout",
     "output_type": "stream",
     "text": [
      "+------------+------------+----------------+---------------+-------------+--------------+------+-------------+------------+---------------+----------------+------------+-----------+------------+---+----+---+----------+-----------------+-------------+------------+-------------------+\n",
      "|TotalHomeWin|TotalHomeTie|HomeAgainstGoals|HomeScoredGoals|TotalHomeLoss|          Team|Season|TotalAwayLoss|TotalAwayTie|AwayScoredGoals|AwayAgainstGoals|TotalAwayWin|GoalsScored|GoalsAgainst|Win|Loss|Tie|TotalGames|GoalDifferentials|WinPercentage|GoalsPerGame|GoalsAgainstPerGame|\n",
      "+------------+------------+----------------+---------------+-------------+--------------+------+-------------+------------+---------------+----------------+------------+-----------+------------+---+----+---+----------+-----------------+-------------+------------+-------------------+\n",
      "|          11|           2|              19|             41|            4|      Dortmund|  2013|            3|           3|             39|              19|          11|         80|          38| 22|   7|  5|        34|               42|         0.65|        2.35|               1.12|\n",
      "|           6|           6|              23|             26|            5| Werder Bremen|  2010|            8|           5|             21|              38|           4|         47|          61| 10|  13| 11|        34|              -14|         0.29|        1.38|               1.79|\n",
      "|           6|           5|              18|             16|            6|       Hamburg|  2014|           11|           3|              9|              32|           3|         25|          50|  9|  17|  8|        34|              -25|         0.26|        0.74|               1.47|\n",
      "|           3|           3|              29|             19|           11|      Duisburg|  2007|           10|           2|             17|              26|           5|         36|          55|  8|  21|  5|        34|              -19|         0.24|        1.06|               1.62|\n",
      "|          12|           2|              15|             34|            3|     Stuttgart|  2004|            7|           5|             20|              25|           5|         54|          40| 17|  10|  7|        34|               14|          0.5|        1.59|               1.18|\n",
      "|           9|           4|              20|             34|            4|      Dortmund|  2000|            4|           6|             28|              22|           7|         62|          42| 16|   8| 10|        34|               20|         0.47|        1.82|               1.24|\n",
      "|           4|           6|              25|             25|            7|      Nurnberg|  2004|            9|           2|             30|              38|           6|         55|          63| 10|  16|  8|        34|               -8|         0.29|        1.62|               1.85|\n",
      "|           2|           5|              28|             12|           10|Kaiserslautern|  2011|            9|           6|             12|              26|           2|         24|          54|  4|  19| 11|        34|              -30|         0.12|        0.71|               1.59|\n",
      "|          13|           2|              11|             30|            2|    Schalke 04|  2006|            6|           3|             23|              21|           8|         53|          32| 21|   8|  5|        34|               21|         0.62|        1.56|               0.94|\n",
      "|          10|           2|              23|             34|            5| Werder Bremen|  2002|            9|           2|             17|              27|           6|         51|          50| 16|  14|  4|        34|                1|         0.47|         1.5|               1.47|\n",
      "|          10|           3|              17|             31|            4|    Leverkusen|  2015|            6|           3|             25|              23|           8|         56|          40| 18|  10|  6|        34|               16|         0.53|        1.65|               1.18|\n",
      "|           5|           4|              21|             17|            8| Hansa Rostock|  2007|           12|           2|             13|              31|           3|         30|          52|  8|  20|  6|        34|              -22|         0.24|        0.88|               1.53|\n",
      "|          16|           1|              13|             51|            0|     Wolfsburg|  2008|            7|           5|             29|              28|           5|         80|          41| 21|   7|  6|        34|               39|         0.62|        2.35|               1.21|\n",
      "|           9|           5|              15|             36|            3|      Freiburg|  2000|            6|           5|             18|              22|           6|         54|          37| 15|   9| 10|        34|               17|         0.44|        1.59|               1.09|\n",
      "|           8|           5|              21|             26|            4|    M'gladbach|  2004|           10|           7|              9|              30|           0|         35|          51|  8|  14| 12|        34|              -16|         0.24|        1.03|                1.5|\n",
      "|           9|           3|              26|             31|            5|    Hoffenheim|  2014|            9|           5|             18|              29|           3|         49|          55| 12|  14|  8|        34|               -6|         0.35|        1.44|               1.62|\n",
      "|          10|           3|              25|             32|            4|      Freiburg|  2003|           12|           5|             10|              42|           0|         42|          67| 10|  16|  8|        34|              -25|         0.29|        1.24|               1.97|\n",
      "|           8|           2|              19|             21|            7|      Hannover|  2004|            8|           4|             13|              17|           5|         34|          36| 13|  15|  6|        34|               -2|         0.38|         1.0|               1.06|\n",
      "|           8|           4|              24|             25|            5| Werder Bremen|  2014|            8|           6|             25|              41|           3|         50|          65| 11|  13| 10|        34|              -15|         0.32|        1.47|               1.91|\n",
      "|           9|           3|              18|             21|            5|        Hertha|  2007|            9|           5|             18|              26|           3|         39|          44| 12|  14|  8|        34|               -5|         0.35|        1.15|               1.29|\n",
      "+------------+------------+----------------+---------------+-------------+--------------+------+-------------+------------+---------------+----------------+------------+-----------+------------+---+----+---+----------+-----------------+-------------+------------+-------------------+\n",
      "only showing top 20 rows\n"
     ]
    }
   ],
   "source": [
    "# Colonnes avancées : GoalDifferentials, WinPercentage, GoalsPerGame, GoalsAgainstPerGame.\n",
    "\n",
    "df_merged = df_merged.withColumn(\n",
    "    \"TotalGames\", col(\"Win\") + col(\"Loss\") + col(\"Tie\")\n",
    ")\n",
    "\n",
    "df_merged = df_merged.withColumn(\n",
    "    \"GoalDifferentials\", col(\"GoalsScored\") - col(\"GoalsAgainst\")\n",
    ").withColumn(\n",
    "    \"WinPercentage\", round(col(\"Win\") / col(\"TotalGames\"), 2)\n",
    ").withColumn(\n",
    "    \"GoalsPerGame\", round(col(\"GoalsScored\") / col(\"TotalGames\"), 2)\n",
    ").withColumn(\n",
    "    \"GoalsAgainstPerGame\", round(col(\"GoalsAgainst\") / col(\"TotalGames\"), 2)\n",
    ")\n",
    "df_merged.show()"
   ]
  },
  {
   "cell_type": "markdown",
   "id": "d648c9b0-eacc-4234-b1b4-efb491ed9a5d",
   "metadata": {},
   "source": [
    "### 7. Classement avec Window Functions"
   ]
  },
  {
   "cell_type": "code",
   "execution_count": 16,
   "id": "7dfe692f-a0eb-4194-a0b5-5759f6f73396",
   "metadata": {
    "scrolled": true
   },
   "outputs": [
    {
     "data": {
      "text/plain": [
       "['TotalHomeWin',\n",
       " 'TotalHomeTie',\n",
       " 'HomeAgainstGoals',\n",
       " 'HomeScoredGoals',\n",
       " 'TotalHomeLoss',\n",
       " 'Team',\n",
       " 'Season',\n",
       " 'TotalAwayLoss',\n",
       " 'TotalAwayTie',\n",
       " 'AwayScoredGoals',\n",
       " 'AwayAgainstGoals',\n",
       " 'TotalAwayWin',\n",
       " 'GoalsScored',\n",
       " 'GoalsAgainst',\n",
       " 'Win',\n",
       " 'Loss',\n",
       " 'Tie',\n",
       " 'TotalGames',\n",
       " 'GoalDifferentials',\n",
       " 'WinPercentage',\n",
       " 'GoalsPerGame',\n",
       " 'GoalsAgainstPerGame']"
      ]
     },
     "execution_count": 16,
     "metadata": {},
     "output_type": "execute_result"
    }
   ],
   "source": [
    "df_merged.columns"
   ]
  },
  {
   "cell_type": "code",
   "execution_count": 17,
   "id": "71903955-4e93-4c25-9ffb-0447f8ef56c9",
   "metadata": {
    "scrolled": true
   },
   "outputs": [
    {
     "data": {
      "text/plain": [
       "['Team',\n",
       " 'Season',\n",
       " 'GoalsScored',\n",
       " 'GoalsAgainst',\n",
       " 'Win',\n",
       " 'Loss',\n",
       " 'Tie',\n",
       " 'TotalGames',\n",
       " 'GoalDifferentials',\n",
       " 'WinPercentage',\n",
       " 'GoalsPerGame',\n",
       " 'GoalsAgainstPerGame']"
      ]
     },
     "execution_count": 17,
     "metadata": {},
     "output_type": "execute_result"
    }
   ],
   "source": [
    "# suppression des colonnes intermédiaires \n",
    "df_merged = df_merged.drop(\n",
    "    \"TotalHomeWin\",\n",
    "    \"TotalHomeTie\",\n",
    "    \"HomeAgainstGoals\",\n",
    "    \"HomeScoredGoals\",\n",
    "    \"TotalHomeLoss\",\n",
    "    \"TotalAwayLoss\",\n",
    "    \"TotalAwayTie\",\n",
    "    \"AwayScoredGoals\",\n",
    "    \"AwayAgainstGoals\",\n",
    "    \"TotalAwayWin\"\n",
    ")\n",
    "df_merged.columns"
   ]
  },
  {
   "cell_type": "code",
   "execution_count": 18,
   "id": "929dbf3e-3672-4d99-9ffb-26c1a3f58a41",
   "metadata": {
    "scrolled": true
   },
   "outputs": [
    {
     "name": "stdout",
     "output_type": "stream",
     "text": [
      "+-------------+------+-----------+------------+---+----+---+----------+-----------------+-------------+------------+-------------------+------------+\n",
      "|         Team|Season|GoalsScored|GoalsAgainst|Win|Loss|Tie|TotalGames|GoalDifferentials|WinPercentage|GoalsPerGame|GoalsAgainstPerGame|TeamPosition|\n",
      "+-------------+------+-----------+------------+---+----+---+----------+-----------------+-------------+------------+-------------------+------------+\n",
      "|Bayern Munich|  2000|         62|          37| 19|   9|  6|        34|               25|         0.56|        1.82|               1.09|           1|\n",
      "|   Schalke 04|  2000|         65|          35| 18|   8|  8|        34|               30|         0.53|        1.91|               1.03|           2|\n",
      "|       Hertha|  2000|         58|          52| 18|  14|  2|        34|                6|         0.53|        1.71|               1.53|           3|\n",
      "|   Leverkusen|  2000|         54|          40| 17|  11|  6|        34|               14|          0.5|        1.59|               1.18|           4|\n",
      "|     Dortmund|  2000|         62|          42| 16|   8| 10|        34|               20|         0.47|        1.82|               1.24|           5|\n",
      "+-------------+------+-----------+------------+---+----+---+----------+-----------------+-------------+------------+-------------------+------------+\n",
      "only showing top 5 rows\n"
     ]
    }
   ],
   "source": [
    "from pyspark.sql.window import Window\n",
    "from pyspark.sql.functions import rank\n",
    "\n",
    "# Définir la fenêtre de classement\n",
    "windowSpec = Window.partitionBy(\"Season\").orderBy(\n",
    "    col(\"WinPercentage\").desc(),\n",
    "    col(\"GoalDifferentials\").desc()\n",
    ")\n",
    "\n",
    "# Ajouter la colonne TeamPosition\n",
    "df_ranked = df_merged.withColumn(\n",
    "    \"TeamPosition\", rank().over(windowSpec)\n",
    ")\n",
    "df_ranked.show(5)"
   ]
  },
  {
   "cell_type": "code",
   "execution_count": 19,
   "id": "febfbc28-dd40-4ae7-95ae-fba6595fc4bb",
   "metadata": {
    "scrolled": true
   },
   "outputs": [
    {
     "name": "stdout",
     "output_type": "stream",
     "text": [
      "+--------------+------+-----------+------------+---+----+---+----------+-----------------+-------------+------------+-------------------+------------+\n",
      "|          Team|Season|GoalsScored|GoalsAgainst|Win|Loss|Tie|TotalGames|GoalDifferentials|WinPercentage|GoalsPerGame|GoalsAgainstPerGame|TeamPosition|\n",
      "+--------------+------+-----------+------------+---+----+---+----------+-----------------+-------------+------------+-------------------+------------+\n",
      "| Bayern Munich|  2000|         62|          37| 19|   9|  6|        34|               25|         0.56|        1.82|               1.09|           1|\n",
      "|    Schalke 04|  2000|         65|          35| 18|   8|  8|        34|               30|         0.53|        1.91|               1.03|           2|\n",
      "|        Hertha|  2000|         58|          52| 18|  14|  2|        34|                6|         0.53|        1.71|               1.53|           3|\n",
      "|    Leverkusen|  2000|         54|          40| 17|  11|  6|        34|               14|          0.5|        1.59|               1.18|           4|\n",
      "|      Dortmund|  2000|         62|          42| 16|   8| 10|        34|               20|         0.47|        1.82|               1.24|           5|\n",
      "|      Freiburg|  2000|         54|          37| 15|   9| 10|        34|               17|         0.44|        1.59|               1.09|           6|\n",
      "| Werder Bremen|  2000|         53|          48| 15|  11|  8|        34|                5|         0.44|        1.56|               1.41|           7|\n",
      "|Kaiserslautern|  2000|         49|          54| 15|  14|  5|        34|               -5|         0.44|        1.44|               1.59|           8|\n",
      "|     Wolfsburg|  2000|         60|          45| 12|  11| 11|        34|               15|         0.35|        1.76|               1.32|           9|\n",
      "|       FC Koln|  2000|         59|          52| 12|  12| 10|        34|                7|         0.35|        1.74|               1.53|          10|\n",
      "|   Munich 1860|  2000|         43|          55| 12|  14|  8|        34|              -12|         0.35|        1.26|               1.62|          11|\n",
      "| Hansa Rostock|  2000|         34|          47| 12|  15|  7|        34|              -13|         0.35|         1.0|               1.38|          12|\n",
      "|       Cottbus|  2000|         38|          52| 12|  19|  3|        34|              -14|         0.35|        1.12|               1.53|          13|\n",
      "|       Hamburg|  2000|         58|          58| 10|  13| 11|        34|                0|         0.29|        1.71|               1.71|          14|\n",
      "| Ein Frankfurt|  2000|         41|          68| 10|  19|  5|        34|              -27|         0.29|        1.21|                2.0|          15|\n",
      "|     Stuttgart|  2000|         42|          49|  9|  14| 11|        34|               -7|         0.26|        1.24|               1.44|          16|\n",
      "|  Unterhaching|  2000|         35|          59|  8|  15| 11|        34|              -24|         0.24|        1.03|               1.74|          17|\n",
      "|        Bochum|  2000|         30|          67|  7|  21|  6|        34|              -37|         0.21|        0.88|               1.97|          18|\n",
      "|    Leverkusen|  2001|         77|          38| 21|   7|  6|        34|               39|         0.62|        2.26|               1.12|           1|\n",
      "|      Dortmund|  2001|         62|          33| 21|   6|  7|        34|               29|         0.62|        1.82|               0.97|           2|\n",
      "| Bayern Munich|  2001|         65|          25| 20|   6|  8|        34|               40|         0.59|        1.91|               0.74|           3|\n",
      "|        Hertha|  2001|         61|          38| 18|   9|  7|        34|               23|         0.53|        1.79|               1.12|           4|\n",
      "|    Schalke 04|  2001|         52|          36| 18|   9|  7|        34|               16|         0.53|        1.53|               1.06|           5|\n",
      "| Werder Bremen|  2001|         54|          43| 17|  12|  5|        34|               11|          0.5|        1.59|               1.26|           6|\n",
      "|Kaiserslautern|  2001|         62|          53| 17|  12|  5|        34|                9|          0.5|        1.82|               1.56|           7|\n",
      "|   Munich 1860|  2001|         59|          59| 15|  14|  5|        34|                0|         0.44|        1.74|               1.74|           8|\n",
      "|     Wolfsburg|  2001|         57|          49| 13|  14|  7|        34|                8|         0.38|        1.68|               1.44|           9|\n",
      "|     Stuttgart|  2001|         47|          43| 13|  10| 11|        34|                4|         0.38|        1.38|               1.26|          10|\n",
      "|       Hamburg|  2001|         51|          57| 10|  14| 10|        34|               -6|         0.29|         1.5|               1.68|          11|\n",
      "|      Nurnberg|  2001|         34|          57| 10|  20|  4|        34|              -23|         0.29|         1.0|               1.68|          12|\n",
      "+--------------+------+-----------+------------+---+----+---+----------+-----------------+-------------+------------+-------------------+------------+\n",
      "only showing top 30 rows\n"
     ]
    }
   ],
   "source": [
    "df_ranked.show(30)"
   ]
  },
  {
   "cell_type": "markdown",
   "id": "34d3f1b5-ee8a-4838-976f-bbb1aa0432bf",
   "metadata": {},
   "source": [
    "### 8. Extraction des champions & sauvegarde Parquet"
   ]
  },
  {
   "cell_type": "code",
   "execution_count": 20,
   "id": "22a008a4-d931-4a49-bc54-a7041d8aeb61",
   "metadata": {},
   "outputs": [
    {
     "name": "stdout",
     "output_type": "stream",
     "text": [
      "+-------------+------+-----------+------------+---+----+---+----------+-----------------+-------------+------------+-------------------+------------+\n",
      "|         Team|Season|GoalsScored|GoalsAgainst|Win|Loss|Tie|TotalGames|GoalDifferentials|WinPercentage|GoalsPerGame|GoalsAgainstPerGame|TeamPosition|\n",
      "+-------------+------+-----------+------------+---+----+---+----------+-----------------+-------------+------------+-------------------+------------+\n",
      "|Bayern Munich|  2000|         62|          37| 19|   9|  6|        34|               25|         0.56|        1.82|               1.09|           1|\n",
      "|   Leverkusen|  2001|         77|          38| 21|   7|  6|        34|               39|         0.62|        2.26|               1.12|           1|\n",
      "|Bayern Munich|  2002|         70|          25| 23|   5|  6|        34|               45|         0.68|        2.06|               0.74|           1|\n",
      "|Werder Bremen|  2003|         79|          38| 22|   4|  8|        34|               41|         0.65|        2.32|               1.12|           1|\n",
      "|Bayern Munich|  2004|         75|          33| 24|   5|  5|        34|               42|         0.71|        2.21|               0.97|           1|\n",
      "+-------------+------+-----------+------------+---+----+---+----------+-----------------+-------------+------------+-------------------+------------+\n",
      "only showing top 5 rows\n"
     ]
    }
   ],
   "source": [
    "# Filtrer TeamPosition = 1\n",
    "df_champions  = df_ranked.filter(col(\"TeamPosition\") == 1)\n",
    "df_champions.show(5)"
   ]
  },
  {
   "cell_type": "code",
   "execution_count": 21,
   "id": "8037d170-5b8a-4cb0-8f88-3d0c277c4ee5",
   "metadata": {},
   "outputs": [
    {
     "name": "stderr",
     "output_type": "stream",
     "text": [
      "                                                                                "
     ]
    }
   ],
   "source": [
    "# Sauvegarder deux datasets au format Parquet:\n",
    "# football_stats_partitioned : toutes les équipes, partitionné par saison\n",
    "df_ranked.write.mode(\"overwrite\").partitionBy(\"Season\").parquet(\"../football_stats_partitioned\")\n"
   ]
  },
  {
   "cell_type": "code",
   "execution_count": 22,
   "id": "4c9668b0-ab10-4023-b1de-79d3709eaa23",
   "metadata": {},
   "outputs": [],
   "source": [
    "# football_top_teams : champions uniquement.\n",
    "df_champions.write.mode(\"overwrite\").parquet(\"../football_top_teams\")"
   ]
  },
  {
   "cell_type": "markdown",
   "id": "1d505a0f-4e55-4e2c-860a-142461db2259",
   "metadata": {},
   "source": [
    "### 9. Visualisation"
   ]
  },
  {
   "cell_type": "code",
   "execution_count": 23,
   "id": "b129c665-d246-4b0e-b983-6dc837313a46",
   "metadata": {},
   "outputs": [
    {
     "name": "stdout",
     "output_type": "stream",
     "text": [
      "\n",
      "\u001b[1m[\u001b[0m\u001b[34;49mnotice\u001b[0m\u001b[1;39;49m]\u001b[0m\u001b[39;49m A new release of pip is available: \u001b[0m\u001b[31;49m25.1.1\u001b[0m\u001b[39;49m -> \u001b[0m\u001b[32;49m25.2\u001b[0m\n",
      "\u001b[1m[\u001b[0m\u001b[34;49mnotice\u001b[0m\u001b[1;39;49m]\u001b[0m\u001b[39;49m To update, run: \u001b[0m\u001b[32;49mpip install --upgrade pip\u001b[0m\n",
      "Note: you may need to restart the kernel to use updated packages.\n"
     ]
    }
   ],
   "source": [
    "pip install pandas -q"
   ]
  },
  {
   "cell_type": "code",
   "execution_count": 24,
   "id": "7d19b2c6-0a7e-40cb-b513-3b5d091dc9d1",
   "metadata": {},
   "outputs": [
    {
     "data": {
      "text/html": [
       "<div>\n",
       "<style scoped>\n",
       "    .dataframe tbody tr th:only-of-type {\n",
       "        vertical-align: middle;\n",
       "    }\n",
       "\n",
       "    .dataframe tbody tr th {\n",
       "        vertical-align: top;\n",
       "    }\n",
       "\n",
       "    .dataframe thead th {\n",
       "        text-align: right;\n",
       "    }\n",
       "</style>\n",
       "<table border=\"1\" class=\"dataframe\">\n",
       "  <thead>\n",
       "    <tr style=\"text-align: right;\">\n",
       "      <th></th>\n",
       "      <th>Team</th>\n",
       "      <th>Season</th>\n",
       "      <th>GoalsScored</th>\n",
       "      <th>GoalsAgainst</th>\n",
       "      <th>Win</th>\n",
       "      <th>Loss</th>\n",
       "      <th>Tie</th>\n",
       "      <th>TotalGames</th>\n",
       "      <th>GoalDifferentials</th>\n",
       "      <th>WinPercentage</th>\n",
       "      <th>GoalsPerGame</th>\n",
       "      <th>GoalsAgainstPerGame</th>\n",
       "      <th>TeamPosition</th>\n",
       "    </tr>\n",
       "  </thead>\n",
       "  <tbody>\n",
       "    <tr>\n",
       "      <th>0</th>\n",
       "      <td>Bayern Munich</td>\n",
       "      <td>2000</td>\n",
       "      <td>62</td>\n",
       "      <td>37</td>\n",
       "      <td>19</td>\n",
       "      <td>9</td>\n",
       "      <td>6</td>\n",
       "      <td>34</td>\n",
       "      <td>25</td>\n",
       "      <td>0.56</td>\n",
       "      <td>1.82</td>\n",
       "      <td>1.09</td>\n",
       "      <td>1</td>\n",
       "    </tr>\n",
       "    <tr>\n",
       "      <th>1</th>\n",
       "      <td>Leverkusen</td>\n",
       "      <td>2001</td>\n",
       "      <td>77</td>\n",
       "      <td>38</td>\n",
       "      <td>21</td>\n",
       "      <td>7</td>\n",
       "      <td>6</td>\n",
       "      <td>34</td>\n",
       "      <td>39</td>\n",
       "      <td>0.62</td>\n",
       "      <td>2.26</td>\n",
       "      <td>1.12</td>\n",
       "      <td>1</td>\n",
       "    </tr>\n",
       "    <tr>\n",
       "      <th>2</th>\n",
       "      <td>Bayern Munich</td>\n",
       "      <td>2002</td>\n",
       "      <td>70</td>\n",
       "      <td>25</td>\n",
       "      <td>23</td>\n",
       "      <td>5</td>\n",
       "      <td>6</td>\n",
       "      <td>34</td>\n",
       "      <td>45</td>\n",
       "      <td>0.68</td>\n",
       "      <td>2.06</td>\n",
       "      <td>0.74</td>\n",
       "      <td>1</td>\n",
       "    </tr>\n",
       "    <tr>\n",
       "      <th>3</th>\n",
       "      <td>Werder Bremen</td>\n",
       "      <td>2003</td>\n",
       "      <td>79</td>\n",
       "      <td>38</td>\n",
       "      <td>22</td>\n",
       "      <td>4</td>\n",
       "      <td>8</td>\n",
       "      <td>34</td>\n",
       "      <td>41</td>\n",
       "      <td>0.65</td>\n",
       "      <td>2.32</td>\n",
       "      <td>1.12</td>\n",
       "      <td>1</td>\n",
       "    </tr>\n",
       "    <tr>\n",
       "      <th>4</th>\n",
       "      <td>Bayern Munich</td>\n",
       "      <td>2004</td>\n",
       "      <td>75</td>\n",
       "      <td>33</td>\n",
       "      <td>24</td>\n",
       "      <td>5</td>\n",
       "      <td>5</td>\n",
       "      <td>34</td>\n",
       "      <td>42</td>\n",
       "      <td>0.71</td>\n",
       "      <td>2.21</td>\n",
       "      <td>0.97</td>\n",
       "      <td>1</td>\n",
       "    </tr>\n",
       "  </tbody>\n",
       "</table>\n",
       "</div>"
      ],
      "text/plain": [
       "            Team  Season  GoalsScored  GoalsAgainst  Win  Loss  Tie  \\\n",
       "0  Bayern Munich    2000           62            37   19     9    6   \n",
       "1     Leverkusen    2001           77            38   21     7    6   \n",
       "2  Bayern Munich    2002           70            25   23     5    6   \n",
       "3  Werder Bremen    2003           79            38   22     4    8   \n",
       "4  Bayern Munich    2004           75            33   24     5    5   \n",
       "\n",
       "   TotalGames  GoalDifferentials  WinPercentage  GoalsPerGame  \\\n",
       "0          34                 25           0.56          1.82   \n",
       "1          34                 39           0.62          2.26   \n",
       "2          34                 45           0.68          2.06   \n",
       "3          34                 41           0.65          2.32   \n",
       "4          34                 42           0.71          2.21   \n",
       "\n",
       "   GoalsAgainstPerGame  TeamPosition  \n",
       "0                 1.09             1  \n",
       "1                 1.12             1  \n",
       "2                 0.74             1  \n",
       "3                 1.12             1  \n",
       "4                 0.97             1  "
      ]
     },
     "execution_count": 24,
     "metadata": {},
     "output_type": "execute_result"
    }
   ],
   "source": [
    "# Convertir les champions en Pandas.\n",
    "df_champions = spark.read.parquet(\"../football_top_teams/\")\n",
    "pdf_champions = df_champions.toPandas()\n",
    "pdf_champions.head(5)"
   ]
  },
  {
   "cell_type": "code",
   "execution_count": 25,
   "id": "1b2c0a7a-8472-4650-a397-a32e8e25ed1a",
   "metadata": {},
   "outputs": [
    {
     "name": "stdout",
     "output_type": "stream",
     "text": [
      "\n",
      "\u001b[1m[\u001b[0m\u001b[34;49mnotice\u001b[0m\u001b[1;39;49m]\u001b[0m\u001b[39;49m A new release of pip is available: \u001b[0m\u001b[31;49m25.1.1\u001b[0m\u001b[39;49m -> \u001b[0m\u001b[32;49m25.2\u001b[0m\n",
      "\u001b[1m[\u001b[0m\u001b[34;49mnotice\u001b[0m\u001b[1;39;49m]\u001b[0m\u001b[39;49m To update, run: \u001b[0m\u001b[32;49mpip install --upgrade pip\u001b[0m\n",
      "Note: you may need to restart the kernel to use updated packages.\n"
     ]
    }
   ],
   "source": [
    "pip install seaborn -q"
   ]
  },
  {
   "cell_type": "code",
   "execution_count": 26,
   "id": "f5484296-8554-4729-beb6-70eae245364f",
   "metadata": {},
   "outputs": [],
   "source": [
    "import matplotlib.pyplot as plt"
   ]
  },
  {
   "cell_type": "code",
   "execution_count": 27,
   "id": "d2a6199f-ea79-488d-84d3-c03d85215cec",
   "metadata": {},
   "outputs": [
    {
     "data": {
      "image/png": "[encoded data removed]",
      "text/plain": [
       "<Figure size 1000x500 with 1 Axes>"
      ]
     },
     "metadata": {},
     "output_type": "display_data"
    }
   ],
   "source": [
    "# % de victoires des champions\n",
    "plt.figure(figsize=(10,5))\n",
    "plt.plot(pdf_champions['Season'], pdf_champions['WinPercentage'], marker='o', color='green')\n",
    "plt.title(\"Pourcentage de victoires des champions par saison\")\n",
    "plt.xlabel(\"Saison\")\n",
    "plt.ylabel(\"Win Percentage (%)\")\n",
    "plt.grid(True)\n",
    "plt.show()\n"
   ]
  },
  {
   "cell_type": "code",
   "execution_count": 28,
   "id": "4fea18d8-41e8-49d8-9163-5f5a5d463364",
   "metadata": {},
   "outputs": [
    {
     "data": {
      "image/png": "[encoded data removed]",
      "text/plain": [
       "<Figure size 1000x500 with 1 Axes>"
      ]
     },
     "metadata": {},
     "output_type": "display_data"
    }
   ],
   "source": [
    "# Nombre de buts marqués.\n",
    "plt.figure(figsize=(10,5))\n",
    "plt.bar(pdf_champions['Season'], pdf_champions['GoalsScored'], color='skyblue')\n",
    "plt.title(\"Nombre de buts marqués par les champions\")\n",
    "plt.xlabel(\"Saison\")\n",
    "plt.ylabel(\"Total de buts marqués\")\n",
    "plt.xticks(rotation=45)\n",
    "plt.show()"
   ]
  },
  {
   "cell_type": "code",
   "execution_count": 29,
   "id": "a533dac9-db41-4e09-b2ec-2db167849a05",
   "metadata": {},
   "outputs": [
    {
     "data": {
      "image/png": "[encoded data removed]",
      "text/plain": [
       "<Figure size 1000x500 with 1 Axes>"
      ]
     },
     "metadata": {},
     "output_type": "display_data"
    }
   ],
   "source": [
    "# GoalDifferentials par saison.\n",
    "plt.figure(figsize=(10,5))\n",
    "plt.plot(pdf_champions['Season'], pdf_champions['GoalDifferentials'], marker='s', color='orange')\n",
    "plt.title(\"GoalDifferentials des champions par saison\")\n",
    "plt.xlabel(\"Saison\")\n",
    "plt.ylabel(\"GoalDifferentials\")\n",
    "plt.grid(True)\n",
    "plt.show()\n"
   ]
  }
 ],
 "metadata": {
  "kernelspec": {
   "display_name": "Python 3 (ipykernel)",
   "language": "python",
   "name": "python3"
  },
  "language_info": {
   "codemirror_mode": {
    "name": "ipython",
    "version": 3
   },
   "file_extension": ".py",
   "mimetype": "text/x-python",
   "name": "python",
   "nbconvert_exporter": "python",
   "pygments_lexer": "ipython3",
   "version": "3.11.9"
  }
 },
 "nbformat": 4,
 "nbformat_minor": 5
}
